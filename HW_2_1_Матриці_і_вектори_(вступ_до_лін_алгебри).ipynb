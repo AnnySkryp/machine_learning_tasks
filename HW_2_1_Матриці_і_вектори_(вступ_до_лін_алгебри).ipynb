{
 "cells": [
  {
   "cell_type": "markdown",
   "metadata": {
    "id": "efug1V4CM0lT"
   },
   "source": [
    "### Завдання 1: Створення матриць та векторів\n",
    "1. Створіть `numpy` вектор `vector` розмірністю 10 з випадковими дійсними значеннями в діапазоні від 0 до 1. Можна скористатись двома альтернативними варіантами:\n",
    "  1. Генерація випадкових чисел з модулем [`random.uniform`](https://docs.python.org/3/library/random.html).\n",
    "  2. Створення вектора з допомогою метода `numpy` [np.random.rand](https://numpy.org/doc/stable/reference/random/generated/numpy.random.rand.html)\n",
    "\n",
    "2. Створіть матрицю `matrix` типу `numpy.array` розмірності 3x3 з наступними значеннями\n",
    "\n",
    "  $$\n",
    "  matrix = \\begin{bmatrix}\n",
    "  11 & 14 & 17 \\\\\n",
    "  20 & 23 & 26 \\\\\n",
    "  29 & 32 & 35\n",
    "  \\end{bmatrix}\n",
    "  $$\n",
    "\n",
    "  будь-яким відомими Вам способом.\n",
    "\n",
    "Виведіть на екран вектор і матрицю, а також їх розміри.\n"
   ]
  },
  {
   "cell_type": "code",
   "execution_count": 1,
   "metadata": {
    "ExecuteTime": {
     "end_time": "2024-09-15T21:38:55.839128Z",
     "start_time": "2024-09-15T21:38:55.761224Z"
    },
    "id": "jxA_lG2_VIMe"
   },
   "outputs": [
    {
     "name": "stdout",
     "output_type": "stream",
     "text": [
      "Vector: [0.61677894 0.3048244  0.72233833 0.81509553 0.68138144 0.67532888\n",
      " 0.51173226 0.26668238 0.16241578 0.8025552 ]\n",
      "Vector2: [0.3780781  0.1760263  0.14987236 0.23958092 0.72779659 0.81915352\n",
      " 0.54019657 0.82069494 0.49211333 0.79622731]\n",
      "[[11 14 17]\n",
      " [20 23 26]\n",
      " [29 32 35]]\n"
     ]
    },
    {
     "data": {
      "text/plain": [
       "((10,), (10,), (3, 3))"
      ]
     },
     "execution_count": 1,
     "metadata": {},
     "output_type": "execute_result"
    }
   ],
   "source": [
    "import random\n",
    "import numpy as np\n",
    "\n",
    "vector = [random.uniform(0, 1) for i in range (10)]\n",
    "vector = np.array(vector)\n",
    "print('Vector:', vector)\n",
    "\n",
    "vector2 =  np.random.rand(10)\n",
    "print('Vector2:', vector2)\n",
    "\n",
    "matrix = np.array([[11, 14, 17],\n",
    "              [20, 23, 26],\n",
    "              [29, 32, 35]])\n",
    "print(matrix)\n",
    "\n",
    "vector.shape, vector2.shape, matrix.shape"
   ]
  },
  {
   "cell_type": "markdown",
   "metadata": {
    "id": "TSJ1P4OuOVe2"
   },
   "source": [
    "\n",
    "### Завдання 2: Операції над векторами та матрицями\n",
    "Виконайте кожну з зазначених операцій над зазначеними оʼєктами і виведіть результат на екран:\n",
    "1. Додайте до кожного значення вектора `vector` число 10 і округліть кожне значення до 2 знаків після коми без використання циклів.\n",
    "2. Помножте кожен елемент матриці з першого завдання на 2 без використання циклів.\n",
    "3. Створіть новий вектор, який містить квадрат кожного `vector` без циклів.\n"
   ]
  },
  {
   "cell_type": "code",
   "execution_count": 2,
   "metadata": {
    "ExecuteTime": {
     "end_time": "2024-09-15T21:39:02.249549Z",
     "start_time": "2024-09-15T21:39:02.225040Z"
    }
   },
   "outputs": [
    {
     "name": "stdout",
     "output_type": "stream",
     "text": [
      "[10.62 10.3  10.72 10.82 10.68 10.68 10.51 10.27 10.16 10.8 ]\n"
     ]
    }
   ],
   "source": [
    "vector = vector + 10\n",
    "vector = np.round(vector, 2)\n",
    "print(vector)"
   ]
  },
  {
   "cell_type": "code",
   "execution_count": 3,
   "metadata": {
    "ExecuteTime": {
     "end_time": "2024-09-15T21:39:02.789607Z",
     "start_time": "2024-09-15T21:39:02.781588Z"
    },
    "id": "nAAojtyUVJXN"
   },
   "outputs": [
    {
     "name": "stdout",
     "output_type": "stream",
     "text": [
      "[[22 28 34]\n",
      " [40 46 52]\n",
      " [58 64 70]]\n"
     ]
    }
   ],
   "source": [
    "matrix_2 = matrix*2\n",
    "print(matrix_2)"
   ]
  },
  {
   "cell_type": "code",
   "execution_count": 4,
   "metadata": {
    "ExecuteTime": {
     "end_time": "2024-09-15T21:39:03.394652Z",
     "start_time": "2024-09-15T21:39:03.379020Z"
    }
   },
   "outputs": [
    {
     "name": "stdout",
     "output_type": "stream",
     "text": [
      "[112.7844 106.09   114.9184 117.0724 114.0624 114.0624 110.4601 105.4729\n",
      " 103.2256 116.64  ]\n"
     ]
    }
   ],
   "source": [
    "vector_new = np.multiply(vector, vector)\n",
    "print(vector_new)"
   ]
  },
  {
   "cell_type": "markdown",
   "metadata": {
    "id": "u6RvWVfhPy-k"
   },
   "source": [
    "\n",
    "### Завдання 3: Множення матриць\n",
    "1. Задані дві матриці `A` і `B`розмірностями 3x2 та 2х3. Виконайте їхнє множення, щоб отримати матрицю 2x2. Виведіть результуючу матрицю `result_matrix` на екран.\n",
    "\n",
    "2. Заданий вектор `C` розмірністю 2х1. Подумайте спочатку, яку розмірність Ви отрмаєте, коли домножите `result_matrix` на вектор `C` і який результат буде. А потім виконайте множення і виведіть результат на екран.\n",
    "\n",
    "3. Задана матриця `D` розмірністю 2х2. Подумайте спочатку, яку розмірність Ви отрмаєте, коли домножите `result_matrix` на матрицю `D` і який результат буде. А потім виконайте множення і виведіть результат на екран."
   ]
  },
  {
   "cell_type": "code",
   "execution_count": 5,
   "metadata": {
    "ExecuteTime": {
     "end_time": "2024-09-15T21:39:04.785144Z",
     "start_time": "2024-09-15T21:39:04.764790Z"
    },
    "id": "RwXfPzlbSJ44"
   },
   "outputs": [
    {
     "data": {
      "text/plain": [
       "array([[0.18, 0.53],\n",
       "       [0.75, 0.47],\n",
       "       [0.35, 0.21]])"
      ]
     },
     "metadata": {},
     "output_type": "display_data"
    },
    {
     "data": {
      "text/plain": [
       "array([[0.17, 0.58, 0.75],\n",
       "       [0.38, 0.11, 0.15]])"
      ]
     },
     "metadata": {},
     "output_type": "display_data"
    },
    {
     "data": {
      "text/plain": [
       "array([[0],\n",
       "       [1]])"
      ]
     },
     "metadata": {},
     "output_type": "display_data"
    },
    {
     "data": {
      "text/plain": [
       "array([[0, 1],\n",
       "       [1, 0]])"
      ]
     },
     "metadata": {},
     "output_type": "display_data"
    }
   ],
   "source": [
    "A = np.array(\n",
    "    [[0.18, 0.53],\n",
    "     [0.75, 0.47],\n",
    "     [0.35, 0.21]])\n",
    "\n",
    "B = np.array(\n",
    "    [[0.17, 0.58, 0.75],\n",
    "     [0.38, 0.11, 0.15]])\n",
    "\n",
    "C = np.array([[0], [1]])\n",
    "\n",
    "D = np.array([[0,1], [1,0]])\n",
    "\n",
    "display(A, B, C, D)"
   ]
  },
  {
   "cell_type": "code",
   "execution_count": 6,
   "metadata": {
    "ExecuteTime": {
     "end_time": "2024-09-15T21:39:05.421176Z",
     "start_time": "2024-09-15T21:39:05.396006Z"
    },
    "id": "z7-boTbhVKkj"
   },
   "outputs": [
    {
     "data": {
      "text/plain": [
       "array([[0.7281, 0.5202],\n",
       "       [0.2034, 0.2846]])"
      ]
     },
     "metadata": {},
     "output_type": "display_data"
    }
   ],
   "source": [
    "result_matrix = np.dot(B, A)\n",
    "display(result_matrix)"
   ]
  },
  {
   "cell_type": "code",
   "execution_count": 7,
   "metadata": {
    "ExecuteTime": {
     "end_time": "2024-09-15T21:39:06.059909Z",
     "start_time": "2024-09-15T21:39:06.039613Z"
    }
   },
   "outputs": [
    {
     "data": {
      "text/plain": [
       "array([[0.5202],\n",
       "       [0.2846]])"
      ]
     },
     "metadata": {},
     "output_type": "display_data"
    }
   ],
   "source": [
    "display(np.dot(result_matrix, C))"
   ]
  },
  {
   "cell_type": "code",
   "execution_count": 8,
   "metadata": {
    "ExecuteTime": {
     "end_time": "2024-09-15T21:39:06.726419Z",
     "start_time": "2024-09-15T21:39:06.711119Z"
    }
   },
   "outputs": [
    {
     "data": {
      "text/plain": [
       "array([[0.5202, 0.7281],\n",
       "       [0.2846, 0.2034]])"
      ]
     },
     "metadata": {},
     "output_type": "display_data"
    }
   ],
   "source": [
    "display(np.dot(result_matrix, D))"
   ]
  },
  {
   "cell_type": "markdown",
   "metadata": {
    "id": "wohp0_cxSGpl"
   },
   "source": [
    "\n",
    "### Завдання 4: Транспонування матриць\n",
    "1. Транспонуйте `result_matrix`.\n",
    "2. Зробіть транспонування вектора `vector` і виведіть форму нової структури. Чи бачите ви зміну?\n",
    "3. Використайте операцію `numpy.expand_dims` над вектором `vector` з аргументом axis=1. Запишіть отриманий результат в змінну `column_vector` і виведіть на екран. Порівняйте з `vector`.\n",
    "4. Зробіть транспонування `column_vector`, виведіть результат на екран разом з розмірностями отриманої структури.\n",
    "\n",
    "\n"
   ]
  },
  {
   "cell_type": "code",
   "execution_count": 9,
   "metadata": {
    "ExecuteTime": {
     "end_time": "2024-09-15T21:39:07.909671Z",
     "start_time": "2024-09-15T21:39:07.899651Z"
    },
    "id": "4hFcq1baVLii"
   },
   "outputs": [
    {
     "data": {
      "text/plain": [
       "array([[0.7281, 0.2034],\n",
       "       [0.5202, 0.2846]])"
      ]
     },
     "execution_count": 9,
     "metadata": {},
     "output_type": "execute_result"
    }
   ],
   "source": [
    "result_matrix.T"
   ]
  },
  {
   "cell_type": "code",
   "execution_count": 10,
   "metadata": {
    "ExecuteTime": {
     "end_time": "2024-09-15T21:39:09.072607Z",
     "start_time": "2024-09-15T21:39:09.047770Z"
    }
   },
   "outputs": [
    {
     "name": "stdout",
     "output_type": "stream",
     "text": [
      "[10.62 10.3  10.72 10.82 10.68 10.68 10.51 10.27 10.16 10.8 ]\n"
     ]
    },
    {
     "data": {
      "text/plain": [
       "(10,)"
      ]
     },
     "execution_count": 10,
     "metadata": {},
     "output_type": "execute_result"
    }
   ],
   "source": [
    "vector_trans = vector.T\n",
    "print(vector_trans)\n",
    "vector_trans.shape"
   ]
  },
  {
   "cell_type": "code",
   "execution_count": 11,
   "metadata": {
    "ExecuteTime": {
     "end_time": "2024-09-15T21:39:09.614413Z",
     "start_time": "2024-09-15T21:39:09.583979Z"
    }
   },
   "outputs": [
    {
     "data": {
      "text/plain": [
       "array([[10.62],\n",
       "       [10.3 ],\n",
       "       [10.72],\n",
       "       [10.82],\n",
       "       [10.68],\n",
       "       [10.68],\n",
       "       [10.51],\n",
       "       [10.27],\n",
       "       [10.16],\n",
       "       [10.8 ]])"
      ]
     },
     "metadata": {},
     "output_type": "display_data"
    },
    {
     "data": {
      "text/plain": [
       "((10,), (10, 1))"
      ]
     },
     "execution_count": 11,
     "metadata": {},
     "output_type": "execute_result"
    }
   ],
   "source": [
    "column_vector = np.expand_dims(vector, axis=1)\n",
    "display(column_vector)\n",
    "vector.shape, column_vector.shape"
   ]
  },
  {
   "cell_type": "code",
   "execution_count": 12,
   "metadata": {
    "ExecuteTime": {
     "end_time": "2024-09-15T21:39:10.172529Z",
     "start_time": "2024-09-15T21:39:10.149533Z"
    }
   },
   "outputs": [
    {
     "data": {
      "text/plain": [
       "array([[10.62, 10.3 , 10.72, 10.82, 10.68, 10.68, 10.51, 10.27, 10.16,\n",
       "        10.8 ]])"
      ]
     },
     "metadata": {},
     "output_type": "display_data"
    },
    {
     "data": {
      "text/plain": [
       "(1, 10)"
      ]
     },
     "metadata": {},
     "output_type": "display_data"
    }
   ],
   "source": [
    "display(column_vector.T)\n",
    "display(column_vector.T.shape)"
   ]
  }
 ],
 "metadata": {
  "colab": {
   "provenance": []
  },
  "kernelspec": {
   "display_name": "Python 3 (ipykernel)",
   "language": "python",
   "name": "python3"
  },
  "language_info": {
   "codemirror_mode": {
    "name": "ipython",
    "version": 3
   },
   "file_extension": ".py",
   "mimetype": "text/x-python",
   "name": "python",
   "nbconvert_exporter": "python",
   "pygments_lexer": "ipython3",
   "version": "3.9.0"
  },
  "toc": {
   "base_numbering": 1,
   "nav_menu": {},
   "number_sections": true,
   "sideBar": true,
   "skip_h1_title": false,
   "title_cell": "Table of Contents",
   "title_sidebar": "Contents",
   "toc_cell": false,
   "toc_position": {},
   "toc_section_display": true,
   "toc_window_display": false
  }
 },
 "nbformat": 4,
 "nbformat_minor": 1
}
