{
 "cells": [
  {
   "cell_type": "markdown",
   "metadata": {
    "id": "ID3uSQHkQJ2J"
   },
   "source": [
    "В цьому ДЗ потренуємось виконувати Z-тести для тестування гіпотез в різних задачах. Для коректної імплементації та інтерпретації тестів рекоемндую переглянути спершу документацію:\n",
    "\n",
    "https://www.statsmodels.org/dev/generated/statsmodels.stats.weightstats.ztest.html\n",
    "\n",
    "### Завдання 1: Z-тест для однієї вибірки\n",
    "\n",
    "**Мета**: Перевірити, чи середнє значення вибірки відрізняється від гіпотетичного середнього.\n",
    "\n",
    "**Припущення**: Середній ріст студентів університету вважається 170 см. Ми хочемо перевірити, чи середній ріст випадкової вибірки студентів істотно більший. Вибірка задана в змінній `heights`.\n",
    "\n",
    "Для виконання завдання імпортуйте метод для проведення `ztest`, виконайте Z-тест з Python, виведіть p-value і зробіть заключення, чи справдилось припущення про середній зріст студентів на рівні значущості 0.05?\n",
    "\n",
    "Використовуємо тут Z-тест, оскільки вибірка достатньо велика (більше 30 екземплярів) і можемо вважати, що її стандартне відхилення близьке до ст. відхилення генеральної сукупності, а значить - відоме."
   ]
  },
  {
   "cell_type": "code",
   "execution_count": 3,
   "metadata": {
    "ExecuteTime": {
     "end_time": "2024-06-02T16:05:35.236121Z",
     "start_time": "2024-06-02T16:05:33.537048Z"
    }
   },
   "outputs": [],
   "source": [
    "import numpy as np\n",
    "from statsmodels.stats.weightstats import ztest\n",
    "import scipy"
   ]
  },
  {
   "cell_type": "code",
   "execution_count": 4,
   "metadata": {
    "ExecuteTime": {
     "end_time": "2024-06-02T16:05:35.935433Z",
     "start_time": "2024-06-02T16:05:35.925754Z"
    },
    "id": "TUYNSCDzRE7N"
   },
   "outputs": [],
   "source": [
    "heights = [174, 171, 175, 179, 170, 170, 179, 175, 169, 174, 169, 169, 173, 162, 163, 169, 166,\n",
    "           173, 167, 164, 179, 170, 172, 164, 169, 175, 169, 174, 169, 169, 173, 162, 177]"
   ]
  },
  {
   "cell_type": "code",
   "execution_count": 5,
   "metadata": {
    "ExecuteTime": {
     "end_time": "2024-06-02T16:05:36.776520Z",
     "start_time": "2024-06-02T16:05:36.756760Z"
    },
    "id": "uTJEZPARYMd4"
   },
   "outputs": [],
   "source": [
    "null_mean = 170\n",
    "ztest_Score, p_value = ztest(heights, value = null_mean, alternative = 'larger')"
   ]
  },
  {
   "cell_type": "code",
   "execution_count": 6,
   "metadata": {
    "ExecuteTime": {
     "end_time": "2024-06-02T16:05:38.160691Z",
     "start_time": "2024-06-02T16:05:38.144558Z"
    }
   },
   "outputs": [
    {
     "data": {
      "text/plain": [
       "(0.8482235371587619, 0.19815674571091746)"
      ]
     },
     "execution_count": 6,
     "metadata": {},
     "output_type": "execute_result"
    }
   ],
   "source": [
    "ztest_Score, p_value"
   ]
  },
  {
   "cell_type": "markdown",
   "metadata": {},
   "source": [
    "Відповідь: Приймаємо нульову гіпотезу. Можемо підтвердити на випадковій вибірці студентів, що на рівні значущості 0.05\n",
    "середній ріст студентів університету 170 см."
   ]
  },
  {
   "cell_type": "markdown",
   "metadata": {
    "id": "ga4iKM9kQa9Q"
   },
   "source": [
    "### Завдання 2: Z-тест для двох незалежних вибірок\n",
    "\n",
    "**Завдання 2.1.**\n",
    "\n",
    "**Мета**: Перевірити, чи існує статистична різниця між середніми оцінками двох груп студентів.\n",
    "\n",
    "**Припущення**: Група A отримала новий навчальний курс, а група B продовжувала зі стандартним курсом. Ми перевіряємо, чи є новий курс ефективнішим.\n",
    "\n",
    "Виконайте Z-тест з Python, виведіть p-value і зробіть заключення, чи справдилось припущення щодо студентів на рівні значущості 0.05?"
   ]
  },
  {
   "cell_type": "code",
   "execution_count": 7,
   "metadata": {
    "ExecuteTime": {
     "end_time": "2024-06-02T16:06:03.975237Z",
     "start_time": "2024-06-02T16:06:03.959425Z"
    },
    "id": "SngJjNBJTgBp"
   },
   "outputs": [],
   "source": [
    "group_a_scores = [78.55, 72.25, 79.88, 75.  , 76.54, 74.99, 87.26, 77.93, 72.71,\n",
    "       82.11, 71.9 , 79.04, 68.2 , 71.36, 78.98, 81.69, 78.86, 77.42,\n",
    "       76.49, 70.61, 74.4 , 75.7 , 83.29, 79.72, 69.18, 79.62, 76.07,\n",
    "       74.62, 81.06, 83.15, 82.66, 73.8 , 76.45, 79.66, 82.88, 75.6 ,\n",
    "       77.07, 72.47, 72.02, 82.06]\n",
    "\n",
    "group_b_scores = [81.78, 74.64, 80.02, 76.81, 71.77, 76.81, 82.69, 74.82, 82.82,\n",
    "       61.9 , 79.11, 75.44, 73.5 , 75.46, 65.06, 73.9 , 76.79, 82.39,\n",
    "       72.41, 70.96, 72.49, 79.58, 76.64, 72.35, 77.57, 75.49, 79.84,\n",
    "       71.49, 73.36, 73.04, 67.68, 76.48, 76.31, 75.03, 73.83, 67.92,\n",
    "       72.9 , 73.29, 70.99, 74.19]"
   ]
  },
  {
   "cell_type": "code",
   "execution_count": 8,
   "metadata": {
    "ExecuteTime": {
     "end_time": "2024-06-02T16:06:04.661496Z",
     "start_time": "2024-06-02T16:06:04.650936Z"
    },
    "id": "CvftCAEHYPKL"
   },
   "outputs": [
    {
     "data": {
      "text/plain": [
       "0.009202824276264003"
      ]
     },
     "execution_count": 8,
     "metadata": {},
     "output_type": "execute_result"
    }
   ],
   "source": [
    "ztest_Score, p_value = ztest(group_a_scores, group_b_scores, value = 0, alternative = 'larger')\n",
    "p_value"
   ]
  },
  {
   "cell_type": "markdown",
   "metadata": {},
   "source": [
    "Відповідь: На рівні значущості 0.05 новий курс є ефективнішим."
   ]
  },
  {
   "cell_type": "markdown",
   "metadata": {
    "id": "zOxz2tU0VpJM"
   },
   "source": [
    "**Завдання 2.2.**\n",
    "\n",
    "\n",
    "**Мета**: Побачити, як впливає розмір вибірок на результат тесту.\n",
    "\n",
    "**Завдання**: Уявіть, що з групи А ми маємо тільки перші 5 записів, а з групи В - усі. Таке могло статись, якщо ми вже маємо результати тестів учнів за попередньою програмою, а тести за новою програмою здали наразі лише 5 учнів і ми вирішили не чекати довше.\n",
    "Виберіть перші 5 записів для групи А і проведіть t-test (для цього використовуємо наступний [метод](https://docs.scipy.org/doc/scipy/reference/generated/scipy.stats.ttest_ind.html)). Виведіть значення p-value. Зробіть висновок, який результат ви бачите щодо стат. значущості на рівні 0.05 для цього експерименту?\n",
    "\n",
    "Тут проводимо t-test оскільки одна з вибірок - дуже мала."
   ]
  },
  {
   "cell_type": "code",
   "execution_count": 9,
   "metadata": {
    "ExecuteTime": {
     "end_time": "2024-06-02T16:06:09.684247Z",
     "start_time": "2024-06-02T16:06:09.669584Z"
    }
   },
   "outputs": [],
   "source": [
    "group_a_scores_new = group_a_scores[0:5]"
   ]
  },
  {
   "cell_type": "code",
   "execution_count": 10,
   "metadata": {
    "ExecuteTime": {
     "end_time": "2024-06-02T16:06:10.241543Z",
     "start_time": "2024-06-02T16:06:10.215715Z"
    },
    "id": "D9znE6liYQmP",
    "scrolled": true
   },
   "outputs": [
    {
     "data": {
      "text/plain": [
       "0.20927397387678665"
      ]
     },
     "execution_count": 10,
     "metadata": {},
     "output_type": "execute_result"
    }
   ],
   "source": [
    "statistic, p_value = scipy.stats.ttest_ind(group_a_scores_new, group_b_scores, equal_var = True, alternative = 'greater')\n",
    "p_value"
   ]
  },
  {
   "cell_type": "markdown",
   "metadata": {},
   "source": [
    "Відповідь: На рівні стат. значущості 0.05 в цьому експерименті бачимо, що нова методика не є ефективнішою. "
   ]
  },
  {
   "cell_type": "markdown",
   "metadata": {
    "id": "3TcRHLLz0SLw"
   },
   "source": [
    "\n",
    "### Завдання 3\\*: Z-тест для двох **пов'язаних** вибірок\n",
    "\n",
    "**Мета**: Перевірити, чи вплинув тренінг на продуктивність працівників, коли всі справробітники проходили тренінг.\n",
    "\n",
    "**Припущення**: Наші працівники проходять однаковий тренінг, і ми хочемо з'ясувати, чи покращилися їхні показники після тренінгу на рівні значущості 0.05. Виконайте Z-тест з Python, виведіть p-value і зробіть заключення, чи поліпшились показники працівників на рівні значущості 0.05?\n",
    "\n",
    "Зверніть увагу, ці вибірки повʼязані між собою, значить не буде коректно виконати z-test між ними, натомість, ми можемо порівняти, чи різниця в результатах (продуктивності співробітників) є стат значущою."
   ]
  },
  {
   "cell_type": "code",
   "execution_count": 11,
   "metadata": {
    "ExecuteTime": {
     "end_time": "2024-06-02T16:06:14.576514Z",
     "start_time": "2024-06-02T16:06:14.560711Z"
    },
    "id": "uxrjagJFW1GC"
   },
   "outputs": [],
   "source": [
    "before_training = [57.82, 37.63, 36.8 , 55.22, 52.97, 52.5 , 53.46, 43.2 , 52.32,\n",
    "       52.93, 42.86, 68.66, 54.74, 38.09, 56.57, 40.25, 57.87, 61.59,\n",
    "       41.79, 59.63, 54.13, 58.22, 68.97, 47.55, 42.46, 41.1 , 41.84,\n",
    "       49.23, 53.41, 52.77]\n",
    "\n",
    "after_training = [62.47, 40.66, 42.7 , 57.69, 61.41, 56.76, 54.75, 44.06, 56.29,\n",
    "       55.48, 47.28, 72.6 , 57.59, 39.39, 56.54, 42.36, 62.58, 65.01,\n",
    "       42.3 , 62.98, 57.9 , 59.45, 72.28, 50.66, 43.18, 44.82, 45.96,\n",
    "       54.4 , 58.52, 53.01]"
   ]
  },
  {
   "cell_type": "code",
   "execution_count": 12,
   "metadata": {
    "ExecuteTime": {
     "end_time": "2024-06-02T16:06:15.274989Z",
     "start_time": "2024-06-02T16:06:15.259124Z"
    },
    "id": "NwCsN91OYSpN"
   },
   "outputs": [],
   "source": [
    "diff_between_training = []\n",
    "for i in range(len(before_training)):\n",
    "    diff_between_training.append(after_training[i] - before_training[i])"
   ]
  },
  {
   "cell_type": "code",
   "execution_count": 13,
   "metadata": {
    "ExecuteTime": {
     "end_time": "2024-06-02T16:06:15.987307Z",
     "start_time": "2024-06-02T16:06:15.970951Z"
    }
   },
   "outputs": [
    {
     "data": {
      "text/plain": [
       "3.1545359919175505e-20"
      ]
     },
     "execution_count": 13,
     "metadata": {},
     "output_type": "execute_result"
    }
   ],
   "source": [
    "ztest_Score, p_value = ztest(diff_between_training, value = 0, alternative = 'larger')\n",
    "p_value"
   ]
  },
  {
   "cell_type": "markdown",
   "metadata": {},
   "source": [
    "Відповідь: На рівні значущості 0.05 продуктивність працівників покращилась після тренінгу."
   ]
  },
  {
   "cell_type": "code",
   "execution_count": null,
   "metadata": {},
   "outputs": [],
   "source": []
  }
 ],
 "metadata": {
  "colab": {
   "provenance": []
  },
  "kernelspec": {
   "display_name": "Python 3 (ipykernel)",
   "language": "python",
   "name": "python3"
  },
  "language_info": {
   "codemirror_mode": {
    "name": "ipython",
    "version": 3
   },
   "file_extension": ".py",
   "mimetype": "text/x-python",
   "name": "python",
   "nbconvert_exporter": "python",
   "pygments_lexer": "ipython3",
   "version": "3.9.0"
  }
 },
 "nbformat": 4,
 "nbformat_minor": 1
}
